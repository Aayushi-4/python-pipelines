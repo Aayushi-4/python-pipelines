{
 "cells": [
  {
   "cell_type": "code",
   "execution_count": 85,
   "id": "13a423d6",
   "metadata": {},
   "outputs": [],
   "source": [
    "import pyodbc"
   ]
  },
  {
   "cell_type": "code",
   "execution_count": null,
   "id": "2a1f0667",
   "metadata": {},
   "outputs": [],
   "source": [
    "pyodbc.drivers()"
   ]
  },
  {
   "cell_type": "code",
   "execution_count": 86,
   "id": "d22f2c94",
   "metadata": {},
   "outputs": [],
   "source": [
    "conn=pyodbc.connect(\n",
    "    'driver={ODBC Driver 17 for SQL Server};'\n",
    "    'server=DESKTOP-3BK6R5E;'\n",
    "    'uid=sa;'\n",
    "    'pwd=aayushi@123;'\n",
    "    'database=pipelines;'\n",
    ")"
   ]
  },
  {
   "cell_type": "code",
   "execution_count": 87,
   "id": "0711f59e",
   "metadata": {},
   "outputs": [],
   "source": [
    "cursor=conn.cursor()"
   ]
  },
  {
   "cell_type": "code",
   "execution_count": 90,
   "id": "9dde2e22",
   "metadata": {},
   "outputs": [],
   "source": [
    "create_table='''\n",
    "create table customer(\n",
    "id int primary key,\n",
    "customer_id int,\n",
    "name varchar(50),\n",
    "email varchar(50),\n",
    "address varchar(100)\n",
    ")\n",
    "'''"
   ]
  },
  {
   "cell_type": "code",
   "execution_count": 91,
   "id": "fab1085d",
   "metadata": {},
   "outputs": [
    {
     "data": {
      "text/plain": [
       "<pyodbc.Cursor at 0x1fcc5eb3f30>"
      ]
     },
     "execution_count": 91,
     "metadata": {},
     "output_type": "execute_result"
    }
   ],
   "source": [
    "conn.execute(create_table)"
   ]
  },
  {
   "cell_type": "code",
   "execution_count": 92,
   "id": "915f54ce",
   "metadata": {},
   "outputs": [],
   "source": [
    "conn.commit()"
   ]
  },
  {
   "cell_type": "code",
   "execution_count": 93,
   "id": "ee5ba79f",
   "metadata": {},
   "outputs": [],
   "source": [
    "customers_data=[(1,1,'Michelle Kidd','vayala@example.net','USNS Santiago, FPO AE 80872'),\n",
    "              (2,2,'Brad Newton','taylorcatherine@example.net','38783 Oliver Street, West Kristenborough,MT 99752'),\n",
    "              (3,3,'Larry Torres','dsanchez@example.net','6845 Steele Turnpike, West Erikabury, UT 37487'),\n",
    "               (4,4,'Kimberly Price','jessicaknight@example.com','1631 Alexis Meadows, Lake Amanda, CA 75179'),\n",
    "              (5,5,'Matthew Phillips','qwilliams@example.com','2274 Williams Heights Suite 895, Andersonhaven, OR 80565')\n",
    "\n",
    "]"
   ]
  },
  {
   "cell_type": "code",
   "execution_count": 94,
   "id": "afa4d10e",
   "metadata": {},
   "outputs": [],
   "source": [
    "cursor.executemany(\n",
    "    '''insert into customer(id,customer_id,name,email,address) values(?,?,?,?,?)''',customers_data\n",
    ")"
   ]
  },
  {
   "cell_type": "code",
   "execution_count": 95,
   "id": "c3f80838",
   "metadata": {},
   "outputs": [],
   "source": [
    "conn.commit()"
   ]
  },
  {
   "cell_type": "markdown",
   "id": "d04d261d",
   "metadata": {},
   "source": [
    "SCD 1"
   ]
  },
  {
   "cell_type": "code",
   "execution_count": 96,
   "id": "2e91893a",
   "metadata": {},
   "outputs": [
    {
     "data": {
      "text/plain": [
       "<pyodbc.Cursor at 0x1fcc5c9b3b0>"
      ]
     },
     "execution_count": 96,
     "metadata": {},
     "output_type": "execute_result"
    }
   ],
   "source": [
    "cursor.execute('''\n",
    "update customer set name='tim bradford',email='tim@example.com'\n",
    "where customer_id=1\n",
    "               '''\n",
    ")               "
   ]
  },
  {
   "cell_type": "code",
   "execution_count": 97,
   "id": "da8d4e0b",
   "metadata": {},
   "outputs": [],
   "source": [
    "conn.commit()"
   ]
  },
  {
   "cell_type": "markdown",
   "id": "a0878216",
   "metadata": {},
   "source": [
    "SCD 2"
   ]
  },
  {
   "cell_type": "code",
   "execution_count": 98,
   "id": "31c67265",
   "metadata": {},
   "outputs": [
    {
     "data": {
      "text/plain": [
       "<pyodbc.Cursor at 0x1fcc5c9b3b0>"
      ]
     },
     "execution_count": 98,
     "metadata": {},
     "output_type": "execute_result"
    }
   ],
   "source": [
    "cursor.execute('''\n",
    "               alter table  customer add start_date date,end_date date,is_current varchar(20) '''\n",
    "               )"
   ]
  },
  {
   "cell_type": "code",
   "execution_count": 99,
   "id": "2149373b",
   "metadata": {},
   "outputs": [],
   "source": [
    "conn.commit()"
   ]
  },
  {
   "cell_type": "markdown",
   "id": "c123e028",
   "metadata": {},
   "source": [
    "now updating the  start_date,end_date and current_status"
   ]
  },
  {
   "cell_type": "code",
   "execution_count": 100,
   "id": "ec23b82b",
   "metadata": {},
   "outputs": [],
   "source": [
    "cursor.execute('''\n",
    "     UPDATE customer\n",
    "   SET start_date = COALESCE(start_date, GETDATE()),\n",
    "        end_date = COALESCE(end_date, NULL),\n",
    "     is_current = COALESCE(is_current, 'Yes');''')\n",
    "conn.commit()"
   ]
  },
  {
   "cell_type": "markdown",
   "id": "e7b4ad30",
   "metadata": {},
   "source": [
    "now i want to add end_date and change current status to no for customer_id = 1 -- PAST DATA"
   ]
  },
  {
   "cell_type": "code",
   "execution_count": 101,
   "id": "272a3600",
   "metadata": {},
   "outputs": [],
   "source": [
    "cursor.execute(''' UPDATE customer set start_date = ?,end_date = getdate(),is_current= ?\n",
    "               where customer_id = ?\n",
    "              ''' ,('2025-06-20','no',1))\n",
    "conn.commit()"
   ]
  },
  {
   "cell_type": "markdown",
   "id": "c2da1b80",
   "metadata": {},
   "source": [
    " now  added new row for current data -- CURRENT DATA"
   ]
  },
  {
   "cell_type": "code",
   "execution_count": 103,
   "id": "569af8ea",
   "metadata": {},
   "outputs": [],
   "source": [
    "cursor.execute(''' insert into customer(id,customer_id,name,email,address,start_date,end_date,is_current)\n",
    "               values(?,?,?,?,?,?,NULL,?)\n",
    "               ''',(6,1,'tim bradford','tim@example.com','USNS Santiago, FPO AE 80872',\n",
    "                   '2025-06-23', 'yes'))\n",
    "conn.commit()\n",
    " "
   ]
  },
  {
   "cell_type": "markdown",
   "id": "d4f10396",
   "metadata": {},
   "source": [
    "SCD 3"
   ]
  },
  {
   "cell_type": "code",
   "execution_count": null,
   "id": "de16e6ed",
   "metadata": {},
   "outputs": [],
   "source": [
    "cursor.execute(''' alter table customer add prev_address nvarchar(100) '''\n",
    "\n",
    ")"
   ]
  },
  {
   "cell_type": "code",
   "execution_count": 108,
   "id": "9dea2cff",
   "metadata": {},
   "outputs": [],
   "source": [
    "conn.commit()"
   ]
  },
  {
   "cell_type": "code",
   "execution_count": 109,
   "id": "9b881846",
   "metadata": {},
   "outputs": [
    {
     "data": {
      "text/plain": [
       "<pyodbc.Cursor at 0x1fcc5c9b3b0>"
      ]
     },
     "execution_count": 109,
     "metadata": {},
     "output_type": "execute_result"
    }
   ],
   "source": [
    "cursor.execute(\n",
    "    ''' update customer set prev_address=?,address=? where customer_id=?''',('USNS Santiago, FPO AE 80872','67623 Morgan Hollow, Hillshire, IL 78665',1)\n",
    ")"
   ]
  },
  {
   "cell_type": "code",
   "execution_count": 110,
   "id": "93069068",
   "metadata": {},
   "outputs": [],
   "source": [
    "conn.commit()"
   ]
  },
  {
   "cell_type": "markdown",
   "id": "1af82775",
   "metadata": {},
   "source": [
    "SCD 4"
   ]
  },
  {
   "cell_type": "code",
   "execution_count": 111,
   "id": "1a090745",
   "metadata": {},
   "outputs": [],
   "source": [
    "create_table_history='''\n",
    "create table customer_history(\n",
    "id int primary key,\n",
    "customer_id int,\n",
    "name varchar(50),\n",
    "email varchar(50),\n",
    "address varchar(100),\n",
    "start_date date,\n",
    "end_date date,\n",
    "is_current varchar(20)\n",
    ")\n",
    "'''"
   ]
  },
  {
   "cell_type": "code",
   "execution_count": 115,
   "id": "5373fcc1",
   "metadata": {},
   "outputs": [
    {
     "data": {
      "text/plain": [
       "<pyodbc.Cursor at 0x1fcc5f444b0>"
      ]
     },
     "execution_count": 115,
     "metadata": {},
     "output_type": "execute_result"
    }
   ],
   "source": [
    "conn.execute(create_table_history)"
   ]
  },
  {
   "cell_type": "code",
   "execution_count": 116,
   "id": "5f47e760",
   "metadata": {},
   "outputs": [],
   "source": [
    "conn.commit()"
   ]
  },
  {
   "cell_type": "code",
   "execution_count": 119,
   "id": "020c9111",
   "metadata": {},
   "outputs": [],
   "source": [
    "cursor.execute(''' insert into customer_history(id,customer_id,name,email,address,start_date,end_date,is_current)\n",
    "               values(?,?,?,?,?,?,?,?)\n",
    "               ''',(1,1,'tim bradford','tim@example.com','USNS Santiago, FPO AE 80872',\n",
    "                   '2025-06-20', '2025-06-23','no'))\n",
    "conn.commit()"
   ]
  },
  {
   "cell_type": "code",
   "execution_count": 120,
   "id": "446a3e8d",
   "metadata": {},
   "outputs": [],
   "source": [
    "cursor.execute(''' insert into customer_history(id,customer_id,name,email,address,start_date,end_date,is_current)\n",
    "               values(?,?,?,?,?,?,NULL,?)\n",
    "               ''',(6,1,'tim bradford','tim@example.com','67623 Morgan Hollow, Hillshire, IL 78665',\n",
    "                    '2025-06-23','yes'))\n",
    "conn.commit()"
   ]
  },
  {
   "cell_type": "code",
   "execution_count": 113,
   "id": "e29c9c2b",
   "metadata": {},
   "outputs": [],
   "source": [
    "create_table_current='''\n",
    "create table customer_current(\n",
    "id int primary key,\n",
    "customer_id int,\n",
    "name varchar(50),\n",
    "email varchar(50),\n",
    "address varchar(100)\n",
    ")\n",
    "'''"
   ]
  },
  {
   "cell_type": "code",
   "execution_count": 117,
   "id": "d87f58e6",
   "metadata": {},
   "outputs": [
    {
     "data": {
      "text/plain": [
       "<pyodbc.Cursor at 0x1fcc5f448b0>"
      ]
     },
     "execution_count": 117,
     "metadata": {},
     "output_type": "execute_result"
    }
   ],
   "source": [
    "conn.execute(create_table_current)"
   ]
  },
  {
   "cell_type": "code",
   "execution_count": 118,
   "id": "03ea83ac",
   "metadata": {},
   "outputs": [],
   "source": [
    "conn.commit()"
   ]
  },
  {
   "cell_type": "code",
   "execution_count": 121,
   "id": "fd5c96cc",
   "metadata": {},
   "outputs": [],
   "source": [
    "customers_data=[(6,1,'tim bradford','tim@example.com','67623 Morgan Hollow, Hillshire, IL 78665'),\n",
    "              (2,2,'Brad Newton','taylorcatherine@example.net','38783 Oliver Street, West Kristenborough,MT 99752'),\n",
    "              (3,3,'Larry Torres','dsanchez@example.net','6845 Steele Turnpike, West Erikabury, UT 37487'),\n",
    "               (4,4,'Kimberly Price','jessicaknight@example.com','1631 Alexis Meadows, Lake Amanda, CA 75179'),\n",
    "              (5,5,'Matthew Phillips','qwilliams@example.com','2274 Williams Heights Suite 895, Andersonhaven, OR 80565')\n",
    "\n",
    "]"
   ]
  },
  {
   "cell_type": "code",
   "execution_count": 122,
   "id": "46c8e72d",
   "metadata": {},
   "outputs": [],
   "source": [
    "cursor.executemany(\n",
    "    '''insert into customer_current(id,customer_id,name,email,address) values(?,?,?,?,?)''',customers_data\n",
    ")"
   ]
  },
  {
   "cell_type": "code",
   "execution_count": 124,
   "id": "6071995f",
   "metadata": {},
   "outputs": [],
   "source": [
    "conn.commit()"
   ]
  }
 ],
 "metadata": {
  "kernelspec": {
   "display_name": "venv",
   "language": "python",
   "name": "python3"
  },
  "language_info": {
   "codemirror_mode": {
    "name": "ipython",
    "version": 3
   },
   "file_extension": ".py",
   "mimetype": "text/x-python",
   "name": "python",
   "nbconvert_exporter": "python",
   "pygments_lexer": "ipython3",
   "version": "3.10.11"
  }
 },
 "nbformat": 4,
 "nbformat_minor": 5
}
