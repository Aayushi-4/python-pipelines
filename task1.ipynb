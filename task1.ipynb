{
 "cells": [
  {
   "cell_type": "code",
   "execution_count": 59,
   "id": "c16e06f9",
   "metadata": {},
   "outputs": [],
   "source": [
    "import pandas as pd\n"
   ]
  },
  {
   "cell_type": "code",
   "execution_count": 60,
   "id": "ba44ad72",
   "metadata": {},
   "outputs": [
    {
     "data": {
      "text/html": [
       "<div>\n",
       "<style scoped>\n",
       "    .dataframe tbody tr th:only-of-type {\n",
       "        vertical-align: middle;\n",
       "    }\n",
       "\n",
       "    .dataframe tbody tr th {\n",
       "        vertical-align: top;\n",
       "    }\n",
       "\n",
       "    .dataframe thead th {\n",
       "        text-align: right;\n",
       "    }\n",
       "</style>\n",
       "<table border=\"1\" class=\"dataframe\">\n",
       "  <thead>\n",
       "    <tr style=\"text-align: right;\">\n",
       "      <th></th>\n",
       "      <th>customer_id</th>\n",
       "      <th>name</th>\n",
       "      <th>email</th>\n",
       "      <th>phone</th>\n",
       "      <th>address</th>\n",
       "      <th>registration_date</th>\n",
       "      <th>loyalty_status</th>\n",
       "    </tr>\n",
       "  </thead>\n",
       "  <tbody>\n",
       "    <tr>\n",
       "      <th>0</th>\n",
       "      <td>1</td>\n",
       "      <td>Michelle Kidd</td>\n",
       "      <td>vayala@example.net</td>\n",
       "      <td>619-723-4258</td>\n",
       "      <td>USNS Santiago, FPO AE 80872</td>\n",
       "      <td>25-01-2025</td>\n",
       "      <td>Gold</td>\n",
       "    </tr>\n",
       "    <tr>\n",
       "      <th>1</th>\n",
       "      <td>2</td>\n",
       "      <td>Brad Newton</td>\n",
       "      <td>taylorcatherine@example.net</td>\n",
       "      <td>537-674-1158</td>\n",
       "      <td>38783 Oliver Street, West Kristenborough, MT 9...</td>\n",
       "      <td>13-07-2023</td>\n",
       "      <td>Silver</td>\n",
       "    </tr>\n",
       "    <tr>\n",
       "      <th>2</th>\n",
       "      <td>3</td>\n",
       "      <td>Larry Torres</td>\n",
       "      <td>dsanchez@example.net</td>\n",
       "      <td>810-256-4505</td>\n",
       "      <td>6845 Steele Turnpike, West Erikabury, UT 37487</td>\n",
       "      <td>18-08-2023</td>\n",
       "      <td>Bronze</td>\n",
       "    </tr>\n",
       "    <tr>\n",
       "      <th>3</th>\n",
       "      <td>4</td>\n",
       "      <td>Kimberly Price</td>\n",
       "      <td>jessicaknight@example.com</td>\n",
       "      <td>423-222-9779</td>\n",
       "      <td>1631 Alexis Meadows, Lake Amanda, CA 75179</td>\n",
       "      <td>08-12-2024</td>\n",
       "      <td>Gold</td>\n",
       "    </tr>\n",
       "    <tr>\n",
       "      <th>4</th>\n",
       "      <td>5</td>\n",
       "      <td>Matthew Phillips</td>\n",
       "      <td>qwilliams@example.com</td>\n",
       "      <td>220-763-3522</td>\n",
       "      <td>2274 Williams Heights Suite 895, Andersonhaven...</td>\n",
       "      <td>03-02-2024</td>\n",
       "      <td>Gold</td>\n",
       "    </tr>\n",
       "  </tbody>\n",
       "</table>\n",
       "</div>"
      ],
      "text/plain": [
       "   customer_id              name                        email         phone  \\\n",
       "0            1     Michelle Kidd           vayala@example.net  619-723-4258   \n",
       "1            2       Brad Newton  taylorcatherine@example.net  537-674-1158   \n",
       "2            3      Larry Torres         dsanchez@example.net  810-256-4505   \n",
       "3            4    Kimberly Price    jessicaknight@example.com  423-222-9779   \n",
       "4            5  Matthew Phillips        qwilliams@example.com  220-763-3522   \n",
       "\n",
       "                                             address registration_date  \\\n",
       "0                        USNS Santiago, FPO AE 80872        25-01-2025   \n",
       "1  38783 Oliver Street, West Kristenborough, MT 9...        13-07-2023   \n",
       "2     6845 Steele Turnpike, West Erikabury, UT 37487        18-08-2023   \n",
       "3         1631 Alexis Meadows, Lake Amanda, CA 75179        08-12-2024   \n",
       "4  2274 Williams Heights Suite 895, Andersonhaven...        03-02-2024   \n",
       "\n",
       "  loyalty_status  \n",
       "0           Gold  \n",
       "1         Silver  \n",
       "2         Bronze  \n",
       "3           Gold  \n",
       "4           Gold  "
      ]
     },
     "execution_count": 60,
     "metadata": {},
     "output_type": "execute_result"
    }
   ],
   "source": [
    "df_customer=pd.read_csv(r\"C:\\Users\\Aayushi\\Downloads\\us_customer_data 1.csv\")\n",
    "df_customer.head()"
   ]
  },
  {
   "cell_type": "code",
   "execution_count": 61,
   "id": "24ce69e6",
   "metadata": {},
   "outputs": [
    {
     "data": {
      "text/plain": [
       "customer_id           0\n",
       "name                  0\n",
       "email                50\n",
       "phone                16\n",
       "address               0\n",
       "registration_date     0\n",
       "loyalty_status        0\n",
       "dtype: int64"
      ]
     },
     "execution_count": 61,
     "metadata": {},
     "output_type": "execute_result"
    }
   ],
   "source": [
    "df_customer.isnull().sum()"
   ]
  },
  {
   "cell_type": "code",
   "execution_count": 62,
   "id": "e51eb738",
   "metadata": {},
   "outputs": [],
   "source": [
    "df_customer['email']=df_customer['email'].fillna(df_customer['name'].str.replace(' ','').str.lower()+'@unknown.com')"
   ]
  },
  {
   "cell_type": "code",
   "execution_count": 63,
   "id": "5dfd94c9",
   "metadata": {},
   "outputs": [
    {
     "data": {
      "text/plain": [
       "customer_id           0\n",
       "name                  0\n",
       "email                 0\n",
       "phone                16\n",
       "address               0\n",
       "registration_date     0\n",
       "loyalty_status        0\n",
       "dtype: int64"
      ]
     },
     "execution_count": 63,
     "metadata": {},
     "output_type": "execute_result"
    }
   ],
   "source": [
    "df_customer.isna().sum()"
   ]
  },
  {
   "cell_type": "code",
   "execution_count": 64,
   "id": "aa51b16a",
   "metadata": {},
   "outputs": [
    {
     "data": {
      "text/plain": [
       "customer_id           0\n",
       "name                  0\n",
       "email                 0\n",
       "phone                16\n",
       "address               0\n",
       "registration_date     0\n",
       "loyalty_status        0\n",
       "dtype: int64"
      ]
     },
     "execution_count": 64,
     "metadata": {},
     "output_type": "execute_result"
    }
   ],
   "source": [
    "df_customer.isnull().sum()"
   ]
  },
  {
   "cell_type": "code",
   "execution_count": 65,
   "id": "b6cd6caf",
   "metadata": {},
   "outputs": [
    {
     "data": {
      "text/plain": [
       "np.int64(0)"
      ]
     },
     "execution_count": 65,
     "metadata": {},
     "output_type": "execute_result"
    }
   ],
   "source": [
    "df_customer.duplicated().sum()"
   ]
  },
  {
   "cell_type": "code",
   "execution_count": 66,
   "id": "0608458a",
   "metadata": {},
   "outputs": [
    {
     "data": {
      "text/html": [
       "<div>\n",
       "<style scoped>\n",
       "    .dataframe tbody tr th:only-of-type {\n",
       "        vertical-align: middle;\n",
       "    }\n",
       "\n",
       "    .dataframe tbody tr th {\n",
       "        vertical-align: top;\n",
       "    }\n",
       "\n",
       "    .dataframe thead th {\n",
       "        text-align: right;\n",
       "    }\n",
       "</style>\n",
       "<table border=\"1\" class=\"dataframe\">\n",
       "  <thead>\n",
       "    <tr style=\"text-align: right;\">\n",
       "      <th></th>\n",
       "      <th>customer_id</th>\n",
       "      <th>name</th>\n",
       "      <th>email</th>\n",
       "      <th>phone</th>\n",
       "      <th>address</th>\n",
       "      <th>registration_date</th>\n",
       "      <th>loyalty_status</th>\n",
       "    </tr>\n",
       "  </thead>\n",
       "  <tbody>\n",
       "  </tbody>\n",
       "</table>\n",
       "</div>"
      ],
      "text/plain": [
       "Empty DataFrame\n",
       "Columns: [customer_id, name, email, phone, address, registration_date, loyalty_status]\n",
       "Index: []"
      ]
     },
     "execution_count": 66,
     "metadata": {},
     "output_type": "execute_result"
    }
   ],
   "source": [
    "\n",
    "df_customer[df_customer['phone'] == '0000000000']\n",
    "\n"
   ]
  },
  {
   "cell_type": "code",
   "execution_count": 67,
   "id": "79fd3d80",
   "metadata": {},
   "outputs": [],
   "source": [
    "df_customer['phone']=df_customer['phone'].replace('0000000000',pd.NA)"
   ]
  },
  {
   "cell_type": "code",
   "execution_count": 68,
   "id": "3b2e16a2",
   "metadata": {},
   "outputs": [
    {
     "data": {
      "text/plain": [
       "customer_id           0\n",
       "name                  0\n",
       "email                 0\n",
       "phone                16\n",
       "address               0\n",
       "registration_date     0\n",
       "loyalty_status        0\n",
       "dtype: int64"
      ]
     },
     "execution_count": 68,
     "metadata": {},
     "output_type": "execute_result"
    }
   ],
   "source": [
    "df_customer.isnull().sum()"
   ]
  },
  {
   "cell_type": "code",
   "execution_count": 69,
   "id": "acec12e2",
   "metadata": {},
   "outputs": [],
   "source": [
    "import random"
   ]
  },
  {
   "cell_type": "code",
   "execution_count": 71,
   "id": "c132b14e",
   "metadata": {},
   "outputs": [],
   "source": [
    "# Function to generate random 10-digit phone number\n",
    "def generate_phone():\n",
    "    return ''.join([str(random.randint(0, 9)) for _ in range(10)])\n",
    " \n",
    "# Replace empty phone numbers\n",
    "df_customer['phone'] = df_customer['phone'].apply(lambda x: generate_phone() if pd.isna(x) or x == '' else x)"
   ]
  },
  {
   "cell_type": "code",
   "execution_count": 74,
   "id": "89b614ab",
   "metadata": {},
   "outputs": [
    {
     "data": {
      "text/html": [
       "<div>\n",
       "<style scoped>\n",
       "    .dataframe tbody tr th:only-of-type {\n",
       "        vertical-align: middle;\n",
       "    }\n",
       "\n",
       "    .dataframe tbody tr th {\n",
       "        vertical-align: top;\n",
       "    }\n",
       "\n",
       "    .dataframe thead th {\n",
       "        text-align: right;\n",
       "    }\n",
       "</style>\n",
       "<table border=\"1\" class=\"dataframe\">\n",
       "  <thead>\n",
       "    <tr style=\"text-align: right;\">\n",
       "      <th></th>\n",
       "      <th>customer_id</th>\n",
       "      <th>name</th>\n",
       "      <th>email</th>\n",
       "      <th>phone</th>\n",
       "      <th>address</th>\n",
       "      <th>registration_date</th>\n",
       "      <th>loyalty_status</th>\n",
       "    </tr>\n",
       "  </thead>\n",
       "  <tbody>\n",
       "    <tr>\n",
       "      <th>36</th>\n",
       "      <td>37</td>\n",
       "      <td>Jessica Hardy</td>\n",
       "      <td>cherylray@example.org</td>\n",
       "      <td>244-875-7801</td>\n",
       "      <td>8293 Martin Ridges Apt. 444, Lake Erikfort, MH...</td>\n",
       "      <td>13-08-2024</td>\n",
       "      <td>Gold</td>\n",
       "    </tr>\n",
       "  </tbody>\n",
       "</table>\n",
       "</div>"
      ],
      "text/plain": [
       "    customer_id           name                  email         phone  \\\n",
       "36           37  Jessica Hardy  cherylray@example.org  244-875-7801   \n",
       "\n",
       "                                              address registration_date  \\\n",
       "36  8293 Martin Ridges Apt. 444, Lake Erikfort, MH...        13-08-2024   \n",
       "\n",
       "   loyalty_status  \n",
       "36           Gold  "
      ]
     },
     "execution_count": 74,
     "metadata": {},
     "output_type": "execute_result"
    }
   ],
   "source": [
    "df_customer[df_customer['customer_id']==37]"
   ]
  },
  {
   "cell_type": "code",
   "execution_count": 75,
   "id": "d56fc0d8",
   "metadata": {},
   "outputs": [
    {
     "data": {
      "text/plain": [
       "customer_id          0\n",
       "name                 0\n",
       "email                0\n",
       "phone                0\n",
       "address              0\n",
       "registration_date    0\n",
       "loyalty_status       0\n",
       "dtype: int64"
      ]
     },
     "execution_count": 75,
     "metadata": {},
     "output_type": "execute_result"
    }
   ],
   "source": [
    "df_customer.isnull().sum()"
   ]
  },
  {
   "cell_type": "code",
   "execution_count": null,
   "id": "2d8e06cb",
   "metadata": {},
   "outputs": [],
   "source": []
  }
 ],
 "metadata": {
  "kernelspec": {
   "display_name": "venv",
   "language": "python",
   "name": "python3"
  },
  "language_info": {
   "codemirror_mode": {
    "name": "ipython",
    "version": 3
   },
   "file_extension": ".py",
   "mimetype": "text/x-python",
   "name": "python",
   "nbconvert_exporter": "python",
   "pygments_lexer": "ipython3",
   "version": "3.10.11"
  }
 },
 "nbformat": 4,
 "nbformat_minor": 5
}
